{
 "cells": [
  {
   "cell_type": "code",
   "execution_count": 20,
   "id": "8e1c8e4e-0545-43e1-ae01-4ffa6ada3041",
   "metadata": {},
   "outputs": [
    {
     "name": "stdout",
     "output_type": "stream",
     "text": [
      "                                               Nombre representante\n",
      "Nombre de la Organización, Huerta o Colectivo                      \n",
      "Alma Cocina                                                       2\n",
      "Anamuri                                                           3\n",
      "Atacama Biodiversa                                                1\n",
      "Autoconvocadas De Macul                                           1\n",
      "Bosque Chileno                                                    1\n",
      "Bosquebarrio                                                      1\n",
      "Caarolina.Huertera                                                1\n",
      "Casa Sintrópica                                                   1\n",
      "Cecilia Brito Gallegos                                            1\n",
      "Centro De Sanación Cósmico                                        1\n",
      "Centro Eco-Pedagógico Aucca                                       6\n",
      "Colectivo Agaricus                                                1\n",
      "Colmenas Lla Ermita                                               1\n",
      "Consejo Ecológico De Macul                                        1\n",
      "Corporación Mundo Rural Pro                                       1\n",
      "Cristian Lizama                                                   1\n",
      "Ecowiluz                                                          1\n",
      "En Modo Lombriz                                                   1\n",
      "Entropia Oficios                                                  1\n",
      "Epes                                                              1\n",
      "Escuela Arcángel De María                                         1\n",
      "Espacio Liberado Millalemu                                        2\n",
      "Fundación Brotes                                                  1\n",
      "Fundación R                                                       1\n",
      "Gnomohuertita                                                     2\n",
      "Huerta Comunitaria Bellavista                                     2\n",
      "Huerta Comunitaria Macarena Valdés                                1\n",
      "Huerta Urbana Santiago                                            1\n",
      "Huerto Comunitario Alejandro Castro                               1\n",
      "Huerto Popular Observatorio Al Sur                                1\n",
      "Huertologia Sur                                                   1\n",
      "Impulso Regeneración                                              1\n",
      "Independiente                                                     3\n",
      "La Bella Ecoaldea                                                 1\n",
      "La Chuzo                                                          1\n",
      "La Enredadera                                                     1\n",
      "La Huertita Angamos                                               1\n",
      "La Rehuerta                                                       1\n",
      "Modatima                                                          2\n",
      "Regenera Hogar                                                    1\n",
      "Repolla Morada                                                    1\n",
      "Ricardo Palma Rivas                                               1\n",
      "Ruf Che                                                           1\n"
     ]
    }
   ],
   "source": [
    "import pandas as pd\n",
    "import numpy  as np\n",
    "import matplotlib.pyplot as plt\n",
    "\n",
    "pd.options.display.max_columns = None\n",
    "pd.options.display.max_rows = None\n",
    "pd.set_option('display.max_colwidth', None)\n",
    "\n",
    "#access to csv\n",
    "df = pd.read_csv('mau_bbdd01012023.csv',sep=';')\n",
    "\n",
    "#df_bymembers = df.groupby('Nombre de la Organización, Huerta o Colectivo')['Nombre representante'].nunique()\n",
    "\n",
    "df_1 = df.groupby(by='Nombre de la Organización, Huerta o Colectivo').agg({'Nombre representante': pd.Series.nunique},)\n",
    "df_2 = df.groupby(by='Comuna o localidad').agg({'Nombre de la Organización, Huerta o Colectivo': pd.Series.nunique},)\n",
    "\n",
    "\n",
    "\n",
    "print(df_1)\n",
    "\n",
    "\n"
   ]
  },
  {
   "cell_type": "code",
   "execution_count": null,
   "id": "123fdfe3-318e-4fe9-b51e-0fc30abb79b0",
   "metadata": {},
   "outputs": [],
   "source": [
    "df"
   ]
  },
  {
   "cell_type": "code",
   "execution_count": null,
   "id": "0f0f100c-8c6c-4935-a9db-04d8f81095d3",
   "metadata": {},
   "outputs": [],
   "source": []
  }
 ],
 "metadata": {
  "kernelspec": {
   "display_name": "Python 3 (ipykernel)",
   "language": "python",
   "name": "python3"
  },
  "language_info": {
   "codemirror_mode": {
    "name": "ipython",
    "version": 3
   },
   "file_extension": ".py",
   "mimetype": "text/x-python",
   "name": "python",
   "nbconvert_exporter": "python",
   "pygments_lexer": "ipython3",
   "version": "3.9.12"
  }
 },
 "nbformat": 4,
 "nbformat_minor": 5
}
